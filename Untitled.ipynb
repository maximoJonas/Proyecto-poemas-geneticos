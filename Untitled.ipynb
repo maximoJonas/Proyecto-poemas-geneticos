{
 "cells": [
  {
   "cell_type": "code",
   "execution_count": 3,
   "id": "9de7861c",
   "metadata": {},
   "outputs": [],
   "source": [
    "import numpy as np\n",
    "import pandas as pd\n",
    "import matplotlib.pyplot as plt\n",
    "import seaborn as sns\n",
    "import random\n",
    "\n",
    "import nltk"
   ]
  },
  {
   "cell_type": "code",
   "execution_count": null,
   "id": "e869c0d5",
   "metadata": {},
   "outputs": [],
   "source": []
  },
  {
   "cell_type": "code",
   "execution_count": null,
   "id": "9320b87e",
   "metadata": {},
   "outputs": [],
   "source": []
  },
  {
   "cell_type": "code",
   "execution_count": 4,
   "id": "822986d1",
   "metadata": {},
   "outputs": [],
   "source": [
    "texto=\"Love not me for comely grace,For my pleasing eye or face; Nor for any outward part,No, nor for my constant heart:For those may fail or turn to ill,So thou and I shall sever:Keep therefore a true woman's eye,And love me still, but know not why;So hast thou the same reason stillTo doat upon me ever.\""
   ]
  },
  {
   "cell_type": "code",
   "execution_count": 5,
   "id": "beee395b",
   "metadata": {
    "collapsed": true
   },
   "outputs": [
    {
     "name": "stdout",
     "output_type": "stream",
     "text": [
      "love <class 'str'>\n",
      "not <class 'str'>\n",
      "me <class 'str'>\n",
      "for <class 'str'>\n",
      "comely <class 'str'>\n",
      "grace <class 'str'>\n",
      ", <class 'str'>\n",
      "for <class 'str'>\n",
      "my <class 'str'>\n",
      "pleasing <class 'str'>\n",
      "eye <class 'str'>\n",
      "or <class 'str'>\n",
      "face <class 'str'>\n",
      "; <class 'str'>\n",
      "nor <class 'str'>\n",
      "for <class 'str'>\n",
      "any <class 'str'>\n",
      "outward <class 'str'>\n",
      "part <class 'str'>\n",
      ", <class 'str'>\n",
      "no <class 'str'>\n",
      ", <class 'str'>\n",
      "nor <class 'str'>\n",
      "for <class 'str'>\n",
      "my <class 'str'>\n",
      "constant <class 'str'>\n",
      "heart <class 'str'>\n",
      ": <class 'str'>\n",
      "for <class 'str'>\n",
      "those <class 'str'>\n",
      "may <class 'str'>\n",
      "fail <class 'str'>\n",
      "or <class 'str'>\n",
      "turn <class 'str'>\n",
      "to <class 'str'>\n",
      "ill <class 'str'>\n",
      ", <class 'str'>\n",
      "so <class 'str'>\n",
      "thou <class 'str'>\n",
      "and <class 'str'>\n",
      "i <class 'str'>\n",
      "shall <class 'str'>\n",
      "sever <class 'str'>\n",
      ": <class 'str'>\n",
      "keep <class 'str'>\n",
      "therefore <class 'str'>\n",
      "a <class 'str'>\n",
      "true <class 'str'>\n",
      "woman <class 'str'>\n",
      "'s <class 'str'>\n",
      "eye <class 'str'>\n",
      ", <class 'str'>\n",
      "and <class 'str'>\n",
      "love <class 'str'>\n",
      "me <class 'str'>\n",
      "still <class 'str'>\n",
      ", <class 'str'>\n",
      "but <class 'str'>\n",
      "know <class 'str'>\n",
      "not <class 'str'>\n",
      "why <class 'str'>\n",
      "; <class 'str'>\n",
      "so <class 'str'>\n",
      "hast <class 'str'>\n",
      "thou <class 'str'>\n",
      "the <class 'str'>\n",
      "same <class 'str'>\n",
      "reason <class 'str'>\n",
      "stillto <class 'str'>\n",
      "doat <class 'str'>\n",
      "upon <class 'str'>\n",
      "me <class 'str'>\n",
      "ever <class 'str'>\n",
      ". <class 'str'>\n"
     ]
    }
   ],
   "source": [
    "texto = texto.lower()\n",
    "tokens = nltk.word_tokenize(text = texto, language = \"english\")\n",
    "\n",
    "\n",
    "for token in tokens: \n",
    "    print(token, type(token))"
   ]
  },
  {
   "cell_type": "code",
   "execution_count": 6,
   "id": "35f9ead2",
   "metadata": {},
   "outputs": [
    {
     "data": {
      "text/plain": [
       "74"
      ]
     },
     "execution_count": 6,
     "metadata": {},
     "output_type": "execute_result"
    }
   ],
   "source": [
    "len(tokens)"
   ]
  },
  {
   "cell_type": "code",
   "execution_count": null,
   "id": "af7ff335",
   "metadata": {},
   "outputs": [],
   "source": []
  },
  {
   "cell_type": "code",
   "execution_count": null,
   "id": "51692984",
   "metadata": {},
   "outputs": [],
   "source": []
  },
  {
   "cell_type": "code",
   "execution_count": null,
   "id": "add0d955",
   "metadata": {},
   "outputs": [],
   "source": []
  }
 ],
 "metadata": {
  "kernelspec": {
   "display_name": "Python 3 (ipykernel)",
   "language": "python",
   "name": "python3"
  },
  "language_info": {
   "codemirror_mode": {
    "name": "ipython",
    "version": 3
   },
   "file_extension": ".py",
   "mimetype": "text/x-python",
   "name": "python",
   "nbconvert_exporter": "python",
   "pygments_lexer": "ipython3",
   "version": "3.9.12"
  }
 },
 "nbformat": 4,
 "nbformat_minor": 5
}
